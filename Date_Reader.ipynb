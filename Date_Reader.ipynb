{
  "nbformat": 4,
  "nbformat_minor": 0,
  "metadata": {
    "colab": {
      "provenance": [],
      "authorship_tag": "ABX9TyNUE0yNId2VCCCo+WzzEWNn",
      "include_colab_link": true
    },
    "kernelspec": {
      "name": "python3",
      "display_name": "Python 3"
    },
    "language_info": {
      "name": "python"
    }
  },
  "cells": [
    {
      "cell_type": "markdown",
      "metadata": {
        "id": "view-in-github",
        "colab_type": "text"
      },
      "source": [
        "<a href=\"https://colab.research.google.com/github/DavidCicc/Portfolio/blob/main/Date_Reader.ipynb\" target=\"_parent\"><img src=\"https://colab.research.google.com/assets/colab-badge.svg\" alt=\"Open In Colab\"/></a>"
      ]
    },
    {
      "cell_type": "code",
      "execution_count": 11,
      "metadata": {
        "colab": {
          "base_uri": "https://localhost:8080/"
        },
        "id": "UztDTltPNNnb",
        "outputId": "ecf2000e-bcc0-46a9-d728-75d5fd49afe8"
      },
      "outputs": [
        {
          "output_type": "stream",
          "name": "stdout",
          "text": [
            "Enter the date in MM/DD/YYYY format: 11/06/2003\n",
            "Month:  11\n",
            "Day:  06\n",
            "Year:  2003\n"
          ]
        }
      ],
      "source": [
        "s = input(\"Enter the date in MM/DD/YYYY format: \")\n",
        "month = s[0:2]\n",
        "day = s[3:5]\n",
        "year = s[6:10]\n",
        "\n",
        "print(\"Month: \", month)\n",
        "print(\"Day: \", day)\n",
        "print(\"Year: \", year)"
      ]
    }
  ]
}